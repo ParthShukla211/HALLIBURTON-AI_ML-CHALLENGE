{
  "nbformat": 4,
  "nbformat_minor": 0,
  "metadata": {
    "colab": {
      "name": "ANN.ipynb",
      "provenance": [],
      "collapsed_sections": []
    },
    "kernelspec": {
      "name": "python3",
      "display_name": "Python 3"
    },
    "language_info": {
      "name": "python"
    },
    "accelerator": "GPU"
  },
  "cells": [
    {
      "cell_type": "code",
      "execution_count": 213,
      "metadata": {
        "id": "2oqkZgxUS2fk"
      },
      "outputs": [],
      "source": [
        "import pandas as pd\n",
        "import numpy as np\n",
        "\n",
        "\n",
        "from tensorflow.keras.callbacks import EarlyStopping\n",
        "from pandas_profiling import ProfileReport\n",
        "\n",
        "from sklearn.pipeline import Pipeline\n",
        "\n",
        "from sklearn.model_selection import train_test_split\n",
        "\n",
        "from sklearn.preprocessing import OneHotEncoder\n",
        "from sklearn.compose import ColumnTransformer\n",
        "\n",
        "from sklearn.linear_model import LogisticRegression\n",
        "from sklearn.svm import SVC\n",
        "from sklearn.naive_bayes import MultinomialNB\n",
        "from sklearn.tree import DecisionTreeClassifier\n",
        "from sklearn.neighbors import KNeighborsClassifier\n",
        "from sklearn.ensemble import RandomForestClassifier\n",
        "from sklearn.ensemble import AdaBoostClassifier\n",
        "from sklearn.ensemble import BaggingClassifier\n",
        "from sklearn.ensemble import ExtraTreesClassifier\n",
        "from sklearn.ensemble import GradientBoostingClassifier\n",
        "from sklearn.metrics import r2_score,accuracy_score,confusion_matrix,precision_score\n",
        "from sklearn.metrics import recall_score,f1_score"
      ]
    },
    {
      "cell_type": "code",
      "source": [
        "df = pd.read_csv('/content/drive/MyDrive/HALLIBURTON AI - ML CHALLENGE/data/LUCAS_Topsoil_2015.csv')"
      ],
      "metadata": {
        "id": "4iQxPcwITTw7"
      },
      "execution_count": 214,
      "outputs": []
    },
    {
      "cell_type": "code",
      "source": [
        "df.head()"
      ],
      "metadata": {
        "colab": {
          "base_uri": "https://localhost:8080/",
          "height": 542
        },
        "id": "Siyn0PCfTeVh",
        "outputId": "dbb10cac-e6ab-4751-e041-00eb31f45b7d"
      },
      "execution_count": 215,
      "outputs": [
        {
          "output_type": "execute_result",
          "data": {
            "text/plain": [
              "   Point_ID Revisited_point  Coarse  Clay  Sand  Silt  pH(CaCl2)  pH(H2O)  \\\n",
              "0  34103754              No     NaN   NaN   NaN   NaN        3.9     3.91   \n",
              "1  34443774              No     NaN   NaN   NaN   NaN        3.1     3.91   \n",
              "2  35163814              No     NaN   NaN   NaN   NaN        4.9     5.48   \n",
              "3  32323656              No     NaN   NaN   NaN   NaN        3.0     3.76   \n",
              "4  34463934              No    28.0  10.0  46.0  44.0        3.9     4.04   \n",
              "\n",
              "      EC     OC  ...  Elevation  LC1   LU1  Soil_Stones  NUTS_0 NUTS_1 NUTS_2  \\\n",
              "0  44.20   25.5  ...        158  H11  U420            1      UK    UKM   UKM8   \n",
              "1  46.40  503.5  ...        500  H12  U420            1      UK    UKM   UKM7   \n",
              "2  15.85   51.4  ...        404  H11  U420            1      UK    UKM   UKM7   \n",
              "3  26.90  470.3  ...        364  H12  U150            1      UK    UKN   UKN1   \n",
              "4  28.40   43.1  ...        315  D20  U111            2      UK    UKM   UKM6   \n",
              "\n",
              "   NUTS_3                      LC1_Desc  \\\n",
              "0   UKM81                Inland marshes   \n",
              "1   UKM77                      Peatbogs   \n",
              "2   UKM71                Inland marshes   \n",
              "3   UKN10                      Peatbogs   \n",
              "4   UKM61  Shrubland without tree cover   \n",
              "\n",
              "                                            LU1_Desc  \n",
              "0          Semi-natural and natural areas not in use  \n",
              "1          Semi-natural and natural areas not in use  \n",
              "2          Semi-natural and natural areas not in use  \n",
              "3                           OTHER PRIMARY PRODUCTION  \n",
              "4  Agriculture (excluding fallow land and kitchen...  \n",
              "\n",
              "[5 rows x 24 columns]"
            ],
            "text/html": [
              "\n",
              "  <div id=\"df-e5cab579-aac1-4951-bc29-fa37172792f1\">\n",
              "    <div class=\"colab-df-container\">\n",
              "      <div>\n",
              "<style scoped>\n",
              "    .dataframe tbody tr th:only-of-type {\n",
              "        vertical-align: middle;\n",
              "    }\n",
              "\n",
              "    .dataframe tbody tr th {\n",
              "        vertical-align: top;\n",
              "    }\n",
              "\n",
              "    .dataframe thead th {\n",
              "        text-align: right;\n",
              "    }\n",
              "</style>\n",
              "<table border=\"1\" class=\"dataframe\">\n",
              "  <thead>\n",
              "    <tr style=\"text-align: right;\">\n",
              "      <th></th>\n",
              "      <th>Point_ID</th>\n",
              "      <th>Revisited_point</th>\n",
              "      <th>Coarse</th>\n",
              "      <th>Clay</th>\n",
              "      <th>Sand</th>\n",
              "      <th>Silt</th>\n",
              "      <th>pH(CaCl2)</th>\n",
              "      <th>pH(H2O)</th>\n",
              "      <th>EC</th>\n",
              "      <th>OC</th>\n",
              "      <th>...</th>\n",
              "      <th>Elevation</th>\n",
              "      <th>LC1</th>\n",
              "      <th>LU1</th>\n",
              "      <th>Soil_Stones</th>\n",
              "      <th>NUTS_0</th>\n",
              "      <th>NUTS_1</th>\n",
              "      <th>NUTS_2</th>\n",
              "      <th>NUTS_3</th>\n",
              "      <th>LC1_Desc</th>\n",
              "      <th>LU1_Desc</th>\n",
              "    </tr>\n",
              "  </thead>\n",
              "  <tbody>\n",
              "    <tr>\n",
              "      <th>0</th>\n",
              "      <td>34103754</td>\n",
              "      <td>No</td>\n",
              "      <td>NaN</td>\n",
              "      <td>NaN</td>\n",
              "      <td>NaN</td>\n",
              "      <td>NaN</td>\n",
              "      <td>3.9</td>\n",
              "      <td>3.91</td>\n",
              "      <td>44.20</td>\n",
              "      <td>25.5</td>\n",
              "      <td>...</td>\n",
              "      <td>158</td>\n",
              "      <td>H11</td>\n",
              "      <td>U420</td>\n",
              "      <td>1</td>\n",
              "      <td>UK</td>\n",
              "      <td>UKM</td>\n",
              "      <td>UKM8</td>\n",
              "      <td>UKM81</td>\n",
              "      <td>Inland marshes</td>\n",
              "      <td>Semi-natural and natural areas not in use</td>\n",
              "    </tr>\n",
              "    <tr>\n",
              "      <th>1</th>\n",
              "      <td>34443774</td>\n",
              "      <td>No</td>\n",
              "      <td>NaN</td>\n",
              "      <td>NaN</td>\n",
              "      <td>NaN</td>\n",
              "      <td>NaN</td>\n",
              "      <td>3.1</td>\n",
              "      <td>3.91</td>\n",
              "      <td>46.40</td>\n",
              "      <td>503.5</td>\n",
              "      <td>...</td>\n",
              "      <td>500</td>\n",
              "      <td>H12</td>\n",
              "      <td>U420</td>\n",
              "      <td>1</td>\n",
              "      <td>UK</td>\n",
              "      <td>UKM</td>\n",
              "      <td>UKM7</td>\n",
              "      <td>UKM77</td>\n",
              "      <td>Peatbogs</td>\n",
              "      <td>Semi-natural and natural areas not in use</td>\n",
              "    </tr>\n",
              "    <tr>\n",
              "      <th>2</th>\n",
              "      <td>35163814</td>\n",
              "      <td>No</td>\n",
              "      <td>NaN</td>\n",
              "      <td>NaN</td>\n",
              "      <td>NaN</td>\n",
              "      <td>NaN</td>\n",
              "      <td>4.9</td>\n",
              "      <td>5.48</td>\n",
              "      <td>15.85</td>\n",
              "      <td>51.4</td>\n",
              "      <td>...</td>\n",
              "      <td>404</td>\n",
              "      <td>H11</td>\n",
              "      <td>U420</td>\n",
              "      <td>1</td>\n",
              "      <td>UK</td>\n",
              "      <td>UKM</td>\n",
              "      <td>UKM7</td>\n",
              "      <td>UKM71</td>\n",
              "      <td>Inland marshes</td>\n",
              "      <td>Semi-natural and natural areas not in use</td>\n",
              "    </tr>\n",
              "    <tr>\n",
              "      <th>3</th>\n",
              "      <td>32323656</td>\n",
              "      <td>No</td>\n",
              "      <td>NaN</td>\n",
              "      <td>NaN</td>\n",
              "      <td>NaN</td>\n",
              "      <td>NaN</td>\n",
              "      <td>3.0</td>\n",
              "      <td>3.76</td>\n",
              "      <td>26.90</td>\n",
              "      <td>470.3</td>\n",
              "      <td>...</td>\n",
              "      <td>364</td>\n",
              "      <td>H12</td>\n",
              "      <td>U150</td>\n",
              "      <td>1</td>\n",
              "      <td>UK</td>\n",
              "      <td>UKN</td>\n",
              "      <td>UKN1</td>\n",
              "      <td>UKN10</td>\n",
              "      <td>Peatbogs</td>\n",
              "      <td>OTHER PRIMARY PRODUCTION</td>\n",
              "    </tr>\n",
              "    <tr>\n",
              "      <th>4</th>\n",
              "      <td>34463934</td>\n",
              "      <td>No</td>\n",
              "      <td>28.0</td>\n",
              "      <td>10.0</td>\n",
              "      <td>46.0</td>\n",
              "      <td>44.0</td>\n",
              "      <td>3.9</td>\n",
              "      <td>4.04</td>\n",
              "      <td>28.40</td>\n",
              "      <td>43.1</td>\n",
              "      <td>...</td>\n",
              "      <td>315</td>\n",
              "      <td>D20</td>\n",
              "      <td>U111</td>\n",
              "      <td>2</td>\n",
              "      <td>UK</td>\n",
              "      <td>UKM</td>\n",
              "      <td>UKM6</td>\n",
              "      <td>UKM61</td>\n",
              "      <td>Shrubland without tree cover</td>\n",
              "      <td>Agriculture (excluding fallow land and kitchen...</td>\n",
              "    </tr>\n",
              "  </tbody>\n",
              "</table>\n",
              "<p>5 rows × 24 columns</p>\n",
              "</div>\n",
              "      <button class=\"colab-df-convert\" onclick=\"convertToInteractive('df-e5cab579-aac1-4951-bc29-fa37172792f1')\"\n",
              "              title=\"Convert this dataframe to an interactive table.\"\n",
              "              style=\"display:none;\">\n",
              "        \n",
              "  <svg xmlns=\"http://www.w3.org/2000/svg\" height=\"24px\"viewBox=\"0 0 24 24\"\n",
              "       width=\"24px\">\n",
              "    <path d=\"M0 0h24v24H0V0z\" fill=\"none\"/>\n",
              "    <path d=\"M18.56 5.44l.94 2.06.94-2.06 2.06-.94-2.06-.94-.94-2.06-.94 2.06-2.06.94zm-11 1L8.5 8.5l.94-2.06 2.06-.94-2.06-.94L8.5 2.5l-.94 2.06-2.06.94zm10 10l.94 2.06.94-2.06 2.06-.94-2.06-.94-.94-2.06-.94 2.06-2.06.94z\"/><path d=\"M17.41 7.96l-1.37-1.37c-.4-.4-.92-.59-1.43-.59-.52 0-1.04.2-1.43.59L10.3 9.45l-7.72 7.72c-.78.78-.78 2.05 0 2.83L4 21.41c.39.39.9.59 1.41.59.51 0 1.02-.2 1.41-.59l7.78-7.78 2.81-2.81c.8-.78.8-2.07 0-2.86zM5.41 20L4 18.59l7.72-7.72 1.47 1.35L5.41 20z\"/>\n",
              "  </svg>\n",
              "      </button>\n",
              "      \n",
              "  <style>\n",
              "    .colab-df-container {\n",
              "      display:flex;\n",
              "      flex-wrap:wrap;\n",
              "      gap: 12px;\n",
              "    }\n",
              "\n",
              "    .colab-df-convert {\n",
              "      background-color: #E8F0FE;\n",
              "      border: none;\n",
              "      border-radius: 50%;\n",
              "      cursor: pointer;\n",
              "      display: none;\n",
              "      fill: #1967D2;\n",
              "      height: 32px;\n",
              "      padding: 0 0 0 0;\n",
              "      width: 32px;\n",
              "    }\n",
              "\n",
              "    .colab-df-convert:hover {\n",
              "      background-color: #E2EBFA;\n",
              "      box-shadow: 0px 1px 2px rgba(60, 64, 67, 0.3), 0px 1px 3px 1px rgba(60, 64, 67, 0.15);\n",
              "      fill: #174EA6;\n",
              "    }\n",
              "\n",
              "    [theme=dark] .colab-df-convert {\n",
              "      background-color: #3B4455;\n",
              "      fill: #D2E3FC;\n",
              "    }\n",
              "\n",
              "    [theme=dark] .colab-df-convert:hover {\n",
              "      background-color: #434B5C;\n",
              "      box-shadow: 0px 1px 3px 1px rgba(0, 0, 0, 0.15);\n",
              "      filter: drop-shadow(0px 1px 2px rgba(0, 0, 0, 0.3));\n",
              "      fill: #FFFFFF;\n",
              "    }\n",
              "  </style>\n",
              "\n",
              "      <script>\n",
              "        const buttonEl =\n",
              "          document.querySelector('#df-e5cab579-aac1-4951-bc29-fa37172792f1 button.colab-df-convert');\n",
              "        buttonEl.style.display =\n",
              "          google.colab.kernel.accessAllowed ? 'block' : 'none';\n",
              "\n",
              "        async function convertToInteractive(key) {\n",
              "          const element = document.querySelector('#df-e5cab579-aac1-4951-bc29-fa37172792f1');\n",
              "          const dataTable =\n",
              "            await google.colab.kernel.invokeFunction('convertToInteractive',\n",
              "                                                     [key], {});\n",
              "          if (!dataTable) return;\n",
              "\n",
              "          const docLinkHtml = 'Like what you see? Visit the ' +\n",
              "            '<a target=\"_blank\" href=https://colab.research.google.com/notebooks/data_table.ipynb>data table notebook</a>'\n",
              "            + ' to learn more about interactive tables.';\n",
              "          element.innerHTML = '';\n",
              "          dataTable['output_type'] = 'display_data';\n",
              "          await google.colab.output.renderOutput(dataTable, element);\n",
              "          const docLink = document.createElement('div');\n",
              "          docLink.innerHTML = docLinkHtml;\n",
              "          element.appendChild(docLink);\n",
              "        }\n",
              "      </script>\n",
              "    </div>\n",
              "  </div>\n",
              "  "
            ]
          },
          "metadata": {},
          "execution_count": 215
        }
      ]
    },
    {
      "cell_type": "code",
      "source": [
        "df = df.dropna()"
      ],
      "metadata": {
        "id": "Q8NAGEdaTjhY"
      },
      "execution_count": 216,
      "outputs": []
    },
    {
      "cell_type": "code",
      "source": [
        "df['Revisited_point'] = df['Revisited_point'].replace(['Yes'],'1')\n",
        "df['Revisited_point'] = df['Revisited_point'].replace(['No'],'0')"
      ],
      "metadata": {
        "id": "ZC27bo9vTqFL"
      },
      "execution_count": 217,
      "outputs": []
    },
    {
      "cell_type": "code",
      "source": [
        "df = df[['Revisited_point', 'Coarse','Sand', 'Silt',\n",
        "       'pH(CaCl2)', 'pH(H2O)', 'EC', 'OC', 'CaCO3', 'P', 'N', 'K', 'Elevation','Clay']]"
      ],
      "metadata": {
        "id": "gEC0XxkLTsX4"
      },
      "execution_count": 218,
      "outputs": []
    },
    {
      "cell_type": "code",
      "source": [
        "X = df[['Revisited_point', 'Coarse','Sand', 'Silt',\n",
        "       'pH(CaCl2)', 'pH(H2O)', 'EC', 'OC', 'CaCO3', 'P', 'N', 'K', 'Elevation']]"
      ],
      "metadata": {
        "id": "ko4pwxxwTuft"
      },
      "execution_count": 219,
      "outputs": []
    },
    {
      "cell_type": "code",
      "source": [
        "y = df['Clay']"
      ],
      "metadata": {
        "id": "lqAJD_BWTwpn"
      },
      "execution_count": 220,
      "outputs": []
    },
    {
      "cell_type": "code",
      "source": [
        "X_train, X_test, y_train, y_test = train_test_split(X, y, test_size = 0.25, random_state = 0)"
      ],
      "metadata": {
        "id": "b3nIYmDaTx_k"
      },
      "execution_count": 221,
      "outputs": []
    },
    {
      "cell_type": "code",
      "source": [
        "import math\n",
        "import matplotlib.pyplot as plt\n",
        "import numpy as np\n",
        "from numpy.random import seed\n",
        "seed(1)\n",
        "import pandas as pd\n",
        "import statsmodels.api as sm\n",
        "import statsmodels.formula.api as smf\n",
        "import tensorflow\n",
        "tensorflow.random.set_seed(1)\n",
        "from tensorflow.python.keras.layers import Dense\n",
        "from tensorflow.keras.layers import Dropout\n",
        "from tensorflow.python.keras.models import Sequential\n",
        "from tensorflow.python.keras.wrappers.scikit_learn import KerasRegressor\n",
        "from sklearn.metrics import mean_absolute_error\n",
        "from sklearn.metrics import mean_squared_error\n",
        "from sklearn.model_selection import train_test_split\n",
        "from sklearn.preprocessing import MinMaxScaler"
      ],
      "metadata": {
        "id": "gwYPLoCSTzVR"
      },
      "execution_count": 222,
      "outputs": []
    },
    {
      "cell_type": "code",
      "source": [
        "model = Sequential()\n",
        "model.add(Dense(8, input_dim=13, kernel_initializer='normal', activation='relu'))\n",
        "model.add(Dense(2670, activation='relu'))\n",
        "model.add(Dense(1, activation='linear'))\n",
        "model.summary()"
      ],
      "metadata": {
        "colab": {
          "base_uri": "https://localhost:8080/"
        },
        "id": "VYdYCphoT-XI",
        "outputId": "694e41c9-993e-4884-e007-52b33d4e8298"
      },
      "execution_count": 223,
      "outputs": [
        {
          "output_type": "stream",
          "name": "stdout",
          "text": [
            "Model: \"sequential_14\"\n",
            "_________________________________________________________________\n",
            "Layer (type)                 Output Shape              Param #   \n",
            "=================================================================\n",
            "dense_46 (Dense)             (None, 8)                 112       \n",
            "_________________________________________________________________\n",
            "dense_47 (Dense)             (None, 2670)              24030     \n",
            "_________________________________________________________________\n",
            "dense_48 (Dense)             (None, 1)                 2671      \n",
            "=================================================================\n",
            "Total params: 26,813\n",
            "Trainable params: 26,813\n",
            "Non-trainable params: 0\n",
            "_________________________________________________________________\n"
          ]
        }
      ]
    },
    {
      "cell_type": "code",
      "source": [
        "X_train = np.asarray(X_train).astype(np.float32)\n",
        "y_train = np.asarray(y_train).astype(np.float32)\n",
        "X_test = np.asarray(X_test).astype(np.float32)"
      ],
      "metadata": {
        "id": "xsuRQ9ndU4YG"
      },
      "execution_count": 224,
      "outputs": []
    },
    {
      "cell_type": "code",
      "source": [
        "callback = EarlyStopping(\n",
        "    monitor=\"val_loss\",\n",
        "    min_delta=0.00001,\n",
        "    patience=10,\n",
        "    verbose=1,\n",
        "    mode=\"auto\",\n",
        "    baseline=None,\n",
        "    restore_best_weights=False\n",
        ")"
      ],
      "metadata": {
        "id": "unwjx3kIaFef"
      },
      "execution_count": 225,
      "outputs": []
    },
    {
      "cell_type": "code",
      "source": [
        "model.compile(loss='mse', optimizer='adam', metrics=['mse','mae'])\n",
        "history=model.fit(X_train, y_train, epochs=50, batch_size=10, verbose=1, validation_split=0.2,callbacks = callback)\n"
      ],
      "metadata": {
        "colab": {
          "base_uri": "https://localhost:8080/"
        },
        "id": "6GOjqX_OUFYr",
        "outputId": "05d32f03-30ef-4210-f63d-e63438fc7f06"
      },
      "execution_count": 226,
      "outputs": [
        {
          "output_type": "stream",
          "name": "stdout",
          "text": [
            "Epoch 1/50\n",
            "256/256 [==============================] - 1s 3ms/step - loss: 186.4918 - mse: 186.4918 - mae: 9.5055 - val_loss: 119.4750 - val_mse: 119.4750 - val_mae: 8.2948\n",
            "Epoch 2/50\n",
            "256/256 [==============================] - 1s 3ms/step - loss: 85.1572 - mse: 85.1572 - mae: 6.7170 - val_loss: 49.4754 - val_mse: 49.4754 - val_mae: 5.0886\n",
            "Epoch 3/50\n",
            "256/256 [==============================] - 1s 3ms/step - loss: 64.4436 - mse: 64.4436 - mae: 5.6163 - val_loss: 57.8032 - val_mse: 57.8032 - val_mae: 5.3040\n",
            "Epoch 4/50\n",
            "256/256 [==============================] - 1s 3ms/step - loss: 45.3966 - mse: 45.3966 - mae: 4.8560 - val_loss: 37.2057 - val_mse: 37.2057 - val_mae: 4.5195\n",
            "Epoch 5/50\n",
            "256/256 [==============================] - 1s 3ms/step - loss: 52.8667 - mse: 52.8667 - mae: 4.8347 - val_loss: 32.8505 - val_mse: 32.8505 - val_mae: 4.2688\n",
            "Epoch 6/50\n",
            "256/256 [==============================] - 1s 3ms/step - loss: 43.1362 - mse: 43.1362 - mae: 4.4753 - val_loss: 35.4281 - val_mse: 35.4281 - val_mae: 4.3877\n",
            "Epoch 7/50\n",
            "256/256 [==============================] - 1s 3ms/step - loss: 48.8011 - mse: 48.8011 - mae: 4.8010 - val_loss: 36.0874 - val_mse: 36.0874 - val_mae: 4.4109\n",
            "Epoch 8/50\n",
            "256/256 [==============================] - 1s 3ms/step - loss: 62.7674 - mse: 62.7674 - mae: 5.2128 - val_loss: 33.6663 - val_mse: 33.6663 - val_mae: 4.1940\n",
            "Epoch 9/50\n",
            "256/256 [==============================] - 1s 3ms/step - loss: 33.8832 - mse: 33.8832 - mae: 4.3451 - val_loss: 29.5680 - val_mse: 29.5680 - val_mae: 4.0866\n",
            "Epoch 10/50\n",
            "256/256 [==============================] - 1s 3ms/step - loss: 29.5700 - mse: 29.5700 - mae: 4.0296 - val_loss: 27.1489 - val_mse: 27.1489 - val_mae: 3.9547\n",
            "Epoch 11/50\n",
            "256/256 [==============================] - 1s 3ms/step - loss: 29.5316 - mse: 29.5316 - mae: 4.0480 - val_loss: 29.5886 - val_mse: 29.5886 - val_mae: 3.9770\n",
            "Epoch 12/50\n",
            "256/256 [==============================] - 1s 3ms/step - loss: 27.5783 - mse: 27.5783 - mae: 3.9227 - val_loss: 22.1749 - val_mse: 22.1749 - val_mae: 3.5569\n",
            "Epoch 13/50\n",
            "256/256 [==============================] - 1s 3ms/step - loss: 24.1575 - mse: 24.1575 - mae: 3.7015 - val_loss: 21.1001 - val_mse: 21.1001 - val_mae: 3.4491\n",
            "Epoch 14/50\n",
            "256/256 [==============================] - 1s 3ms/step - loss: 22.4534 - mse: 22.4534 - mae: 3.5408 - val_loss: 18.2601 - val_mse: 18.2601 - val_mae: 3.1775\n",
            "Epoch 15/50\n",
            "256/256 [==============================] - 1s 3ms/step - loss: 21.0200 - mse: 21.0200 - mae: 3.4797 - val_loss: 17.4228 - val_mse: 17.4228 - val_mae: 3.2150\n",
            "Epoch 16/50\n",
            "256/256 [==============================] - 1s 3ms/step - loss: 18.1650 - mse: 18.1650 - mae: 3.2545 - val_loss: 15.1904 - val_mse: 15.1904 - val_mae: 3.0029\n",
            "Epoch 17/50\n",
            "256/256 [==============================] - 1s 3ms/step - loss: 16.0771 - mse: 16.0771 - mae: 3.0372 - val_loss: 13.3362 - val_mse: 13.3362 - val_mae: 2.7800\n",
            "Epoch 18/50\n",
            "256/256 [==============================] - 1s 3ms/step - loss: 15.4073 - mse: 15.4073 - mae: 3.0162 - val_loss: 17.7524 - val_mse: 17.7524 - val_mae: 3.1996\n",
            "Epoch 19/50\n",
            "256/256 [==============================] - 1s 3ms/step - loss: 12.5638 - mse: 12.5638 - mae: 2.7538 - val_loss: 9.9363 - val_mse: 9.9363 - val_mae: 2.4379\n",
            "Epoch 20/50\n",
            "256/256 [==============================] - 1s 3ms/step - loss: 14.2204 - mse: 14.2204 - mae: 2.8284 - val_loss: 8.7464 - val_mse: 8.7464 - val_mae: 2.2875\n",
            "Epoch 21/50\n",
            "256/256 [==============================] - 1s 3ms/step - loss: 9.8268 - mse: 9.8268 - mae: 2.4523 - val_loss: 7.9375 - val_mse: 7.9375 - val_mae: 2.1416\n",
            "Epoch 22/50\n",
            "256/256 [==============================] - 1s 3ms/step - loss: 8.2933 - mse: 8.2933 - mae: 2.2059 - val_loss: 5.7125 - val_mse: 5.7125 - val_mae: 1.8479\n",
            "Epoch 23/50\n",
            "256/256 [==============================] - 1s 6ms/step - loss: 11.8894 - mse: 11.8894 - mae: 2.5385 - val_loss: 8.3614 - val_mse: 8.3614 - val_mae: 2.2709\n",
            "Epoch 24/50\n",
            "256/256 [==============================] - 1s 3ms/step - loss: 8.0349 - mse: 8.0349 - mae: 2.1434 - val_loss: 4.2479 - val_mse: 4.2479 - val_mae: 1.6315\n",
            "Epoch 25/50\n",
            "256/256 [==============================] - 1s 3ms/step - loss: 5.5503 - mse: 5.5503 - mae: 1.8317 - val_loss: 5.5221 - val_mse: 5.5221 - val_mae: 1.8011\n",
            "Epoch 26/50\n",
            "256/256 [==============================] - 1s 3ms/step - loss: 5.6830 - mse: 5.6830 - mae: 1.8251 - val_loss: 2.9825 - val_mse: 2.9825 - val_mae: 1.3832\n",
            "Epoch 27/50\n",
            "256/256 [==============================] - 1s 3ms/step - loss: 6.9164 - mse: 6.9164 - mae: 1.8518 - val_loss: 12.2599 - val_mse: 12.2599 - val_mae: 2.5897\n",
            "Epoch 28/50\n",
            "256/256 [==============================] - 1s 3ms/step - loss: 8.5561 - mse: 8.5561 - mae: 2.1246 - val_loss: 8.8574 - val_mse: 8.8574 - val_mae: 2.0884\n",
            "Epoch 29/50\n",
            "256/256 [==============================] - 1s 3ms/step - loss: 12.6280 - mse: 12.6280 - mae: 2.5958 - val_loss: 4.3053 - val_mse: 4.3053 - val_mae: 1.6262\n",
            "Epoch 30/50\n",
            "256/256 [==============================] - 1s 3ms/step - loss: 4.0524 - mse: 4.0524 - mae: 1.5701 - val_loss: 9.6671 - val_mse: 9.6671 - val_mae: 2.2761\n",
            "Epoch 31/50\n",
            "256/256 [==============================] - 1s 3ms/step - loss: 6.7475 - mse: 6.7475 - mae: 1.8480 - val_loss: 2.5973 - val_mse: 2.5973 - val_mae: 1.3057\n",
            "Epoch 32/50\n",
            "256/256 [==============================] - 1s 3ms/step - loss: 2.9634 - mse: 2.9634 - mae: 1.3428 - val_loss: 2.1287 - val_mse: 2.1287 - val_mae: 1.1742\n",
            "Epoch 33/50\n",
            "256/256 [==============================] - 1s 3ms/step - loss: 3.9008 - mse: 3.9008 - mae: 1.4886 - val_loss: 1.8229 - val_mse: 1.8229 - val_mae: 1.0785\n",
            "Epoch 34/50\n",
            "256/256 [==============================] - 1s 3ms/step - loss: 2.4556 - mse: 2.4556 - mae: 1.2506 - val_loss: 1.8461 - val_mse: 1.8461 - val_mae: 1.0760\n",
            "Epoch 35/50\n",
            "256/256 [==============================] - 1s 6ms/step - loss: 2.0316 - mse: 2.0316 - mae: 1.1245 - val_loss: 1.8354 - val_mse: 1.8354 - val_mae: 1.1053\n",
            "Epoch 36/50\n",
            "256/256 [==============================] - 1s 3ms/step - loss: 3.6193 - mse: 3.6193 - mae: 1.4088 - val_loss: 1.3697 - val_mse: 1.3697 - val_mae: 0.9376\n",
            "Epoch 37/50\n",
            "256/256 [==============================] - 1s 3ms/step - loss: 1.5746 - mse: 1.5746 - mae: 0.9831 - val_loss: 1.4361 - val_mse: 1.4361 - val_mae: 0.9666\n",
            "Epoch 38/50\n",
            "256/256 [==============================] - 1s 3ms/step - loss: 1.4024 - mse: 1.4024 - mae: 0.9398 - val_loss: 1.0673 - val_mse: 1.0673 - val_mae: 0.8368\n",
            "Epoch 39/50\n",
            "256/256 [==============================] - 1s 3ms/step - loss: 6.2975 - mse: 6.2975 - mae: 1.7894 - val_loss: 2.1627 - val_mse: 2.1627 - val_mae: 1.1791\n",
            "Epoch 40/50\n",
            "256/256 [==============================] - 1s 3ms/step - loss: 1.3258 - mse: 1.3258 - mae: 0.9154 - val_loss: 1.2541 - val_mse: 1.2541 - val_mae: 0.8860\n",
            "Epoch 41/50\n",
            "256/256 [==============================] - 1s 3ms/step - loss: 2.3923 - mse: 2.3923 - mae: 1.1239 - val_loss: 2.2267 - val_mse: 2.2267 - val_mae: 1.2630\n",
            "Epoch 42/50\n",
            "256/256 [==============================] - 1s 3ms/step - loss: 6.6504 - mse: 6.6504 - mae: 1.5877 - val_loss: 1.2367 - val_mse: 1.2367 - val_mae: 0.8834\n",
            "Epoch 43/50\n",
            "256/256 [==============================] - 1s 3ms/step - loss: 1.5346 - mse: 1.5346 - mae: 0.9541 - val_loss: 0.7171 - val_mse: 0.7171 - val_mae: 0.6842\n",
            "Epoch 44/50\n",
            "256/256 [==============================] - 1s 3ms/step - loss: 1.7557 - mse: 1.7557 - mae: 0.9671 - val_loss: 1.1730 - val_mse: 1.1730 - val_mae: 0.8852\n",
            "Epoch 45/50\n",
            "256/256 [==============================] - 1s 3ms/step - loss: 4.7421 - mse: 4.7421 - mae: 1.3495 - val_loss: 0.8495 - val_mse: 0.8495 - val_mae: 0.7318\n",
            "Epoch 46/50\n",
            "256/256 [==============================] - 1s 3ms/step - loss: 0.9510 - mse: 0.9510 - mae: 0.7738 - val_loss: 1.0121 - val_mse: 1.0121 - val_mae: 0.8243\n",
            "Epoch 47/50\n",
            "256/256 [==============================] - 1s 3ms/step - loss: 4.4027 - mse: 4.4027 - mae: 1.0678 - val_loss: 8.1435 - val_mse: 8.1435 - val_mae: 2.2315\n",
            "Epoch 48/50\n",
            "256/256 [==============================] - 1s 3ms/step - loss: 3.1184 - mse: 3.1184 - mae: 1.2441 - val_loss: 0.6752 - val_mse: 0.6752 - val_mae: 0.6531\n",
            "Epoch 49/50\n",
            "256/256 [==============================] - 1s 3ms/step - loss: 0.8545 - mse: 0.8545 - mae: 0.7357 - val_loss: 0.7840 - val_mse: 0.7840 - val_mae: 0.7198\n",
            "Epoch 50/50\n",
            "256/256 [==============================] - 1s 3ms/step - loss: 0.7167 - mse: 0.7167 - mae: 0.6754 - val_loss: 0.8291 - val_mse: 0.8291 - val_mae: 0.7355\n"
          ]
        }
      ]
    },
    {
      "cell_type": "code",
      "source": [
        "y_pred = model.predict(X_test)"
      ],
      "metadata": {
        "id": "RnJOSg72UKXK"
      },
      "execution_count": 227,
      "outputs": []
    },
    {
      "cell_type": "code",
      "source": [
        "accuracy = r2_score(y_test,y_pred)\n",
        "accuracy"
      ],
      "metadata": {
        "colab": {
          "base_uri": "https://localhost:8080/"
        },
        "id": "uBHOmFzOVaPe",
        "outputId": "5ba0f4e0-5ebd-4e88-c7b3-71414aefabac"
      },
      "execution_count": 228,
      "outputs": [
        {
          "output_type": "execute_result",
          "data": {
            "text/plain": [
              "0.9932982650592042"
            ]
          },
          "metadata": {},
          "execution_count": 228
        }
      ]
    },
    {
      "cell_type": "code",
      "source": [
        ""
      ],
      "metadata": {
        "id": "UuRnPadEWg-1"
      },
      "execution_count": 228,
      "outputs": []
    },
    {
      "cell_type": "code",
      "source": [
        ""
      ],
      "metadata": {
        "id": "Et3f4_gteZfI"
      },
      "execution_count": 228,
      "outputs": []
    },
    {
      "cell_type": "code",
      "source": [
        ""
      ],
      "metadata": {
        "id": "il1YPN4geZht"
      },
      "execution_count": 228,
      "outputs": []
    },
    {
      "cell_type": "code",
      "source": [
        ""
      ],
      "metadata": {
        "id": "ADTb9HTbeZkd"
      },
      "execution_count": 228,
      "outputs": []
    },
    {
      "cell_type": "code",
      "source": [
        ""
      ],
      "metadata": {
        "id": "shL8kuzteZnk"
      },
      "execution_count": 228,
      "outputs": []
    },
    {
      "cell_type": "code",
      "source": [
        ""
      ],
      "metadata": {
        "id": "BaT8K4lqeZqt"
      },
      "execution_count": 228,
      "outputs": []
    },
    {
      "cell_type": "code",
      "source": [
        "print(history.history.keys())\n",
        "# \"Loss\"\n",
        "plt.plot(history.history['loss'])\n",
        "plt.plot(history.history['val_loss'])\n",
        "plt.title('model loss')\n",
        "plt.ylabel('loss')\n",
        "plt.xlabel('epoch')\n",
        "plt.legend(['train', 'validation'], loc='upper left')\n",
        "plt.show()"
      ],
      "metadata": {
        "colab": {
          "base_uri": "https://localhost:8080/",
          "height": 313
        },
        "id": "xWjNQVy4eZtp",
        "outputId": "1b6e5dbf-904d-436a-9368-f38b80413a0b"
      },
      "execution_count": 229,
      "outputs": [
        {
          "output_type": "stream",
          "name": "stdout",
          "text": [
            "dict_keys(['loss', 'mse', 'mae', 'val_loss', 'val_mse', 'val_mae'])\n"
          ]
        },
        {
          "output_type": "display_data",
          "data": {
            "text/plain": [
              "<Figure size 432x288 with 1 Axes>"
            ],
            "image/png": "[encoded data removed]"
          },
          "metadata": {
            "needs_background": "light"
          }
        }
      ]
    },
    {
      "cell_type": "code",
      "source": [
        ""
      ],
      "metadata": {
        "id": "nLRdn9YweaiX"
      },
      "execution_count": 229,
      "outputs": []
    }
  ]
}